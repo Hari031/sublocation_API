{
 "cells": [
  {
   "cell_type": "code",
   "execution_count": null,
   "id": "3a5ce5f0",
   "metadata": {},
   "outputs": [
    {
     "name": "stdout",
     "output_type": "stream",
     "text": [
      " * Serving Flask app \"__main__\" (lazy loading)\n",
      " * Environment: production\n",
      "\u001b[31m   WARNING: This is a development server. Do not use it in a production deployment.\u001b[0m\n",
      "\u001b[2m   Use a production WSGI server instead.\u001b[0m\n",
      " * Debug mode: off\n"
     ]
    },
    {
     "name": "stderr",
     "output_type": "stream",
     "text": [
      " * Running on http://127.0.0.1:5000/ (Press CTRL+C to quit)\n"
     ]
    },
    {
     "name": "stdout",
     "output_type": "stream",
     "text": [
      "file_urls ['https://ocuityappimages.blob.core.windows.net/suboutput/MicrosoftTeams-image (3).jpg']\n",
      "img_name https://ocuityappimages.blob.core.windows.net/suboutput/MicrosoftTeams-image (3).jpg\n",
      "\n",
      "Lable model is running for object detection\n",
      "\n",
      "Big Object Model is running for object detection\n",
      "\n",
      "Small Object Model is running for object detection\n"
     ]
    },
    {
     "name": "stderr",
     "output_type": "stream",
     "text": [
      "127.0.0.1 - - [14/Jul/2022 16:52:10] \"POST /predict HTTP/1.1\" 200 -\n"
     ]
    },
    {
     "name": "stdout",
     "output_type": "stream",
     "text": [
      "ordered OrderedDict([('fileurl', 'https://ocuityappimages.blob.core.windows.net/suboutput/MicrosoftTeams-image (3).jpg'), ('img_name', 'MicrosoftTeams-image (3).jpg'), ('Location', {'location_code': 'FCPASS', 'probs': 99.813, 'xmin': 161, 'ymin': 91, 'xmax': 1460, 'ymax': 1005, 'Sublocation': [{'location_code': 'frontBumper', 'probs': 68.858, 'xmin': 521, 'ymin': 584, 'xmax': 1468, 'ymax': 995}, {'location_code': 'frontHeadlight', 'probs': 76.344, 'xmin': 635, 'ymin': 446, 'xmax': 956, 'ymax': 657}]})])\n",
      "Updated_dict {'fileurl': 'https://ocuityappimages.blob.core.windows.net/suboutput/MicrosoftTeams-image (3).jpg', 'img_name': 'MicrosoftTeams-image (3).jpg', 'Location': {'location_code': 'FCPASS', 'probs': 99.813, 'xmin': 161, 'ymin': 91, 'xmax': 1460, 'ymax': 1005, 'Sublocation': [{'location_code': 'frontBumper', 'probs': 68.858, 'xmin': 521, 'ymin': 584, 'xmax': 1468, 'ymax': 995}, {'location_code': 'frontHeadlight', 'probs': 76.344, 'xmin': 635, 'ymin': 446, 'xmax': 956, 'ymax': 657}]}}\n",
      "output_lst [{'fileurl': 'https://ocuityappimages.blob.core.windows.net/suboutput/MicrosoftTeams-image (3).jpg', 'img_name': 'MicrosoftTeams-image (3).jpg', 'Location': {'location_code': 'FCPASS', 'probs': 99.813, 'xmin': 161, 'ymin': 91, 'xmax': 1460, 'ymax': 1005, 'Sublocation': [{'location_code': 'frontBumper', 'probs': 68.858, 'xmin': 521, 'ymin': 584, 'xmax': 1468, 'ymax': 995}, {'location_code': 'frontHeadlight', 'probs': 76.344, 'xmin': 635, 'ymin': 446, 'xmax': 956, 'ymax': 657}]}}]\n"
     ]
    }
   ],
   "source": [
    "import io\n",
    "import flask\n",
    "import requests\n",
    "from PIL import Image \n",
    "from flask import request, jsonify\n",
    "\n",
    "import modellib.model_inference as model\n",
    "from modellib.blobclient import upload_to_blob\n",
    "\n",
    "model_path = r\"models/vm_1620796160.pt\"\n",
    "voc_txt_path = r\"models/vm_1620796160_voc-model-labels_woffrr_10th.txt\"\n",
    "model_path_fr = r\"models/vm_1637600421 (1).pt\"\n",
    "voc_txt_path_fr= r\"models/voc-model-labels (1).txt\"\n",
    "location_model = r\"models/location.pt\"\n",
    "location_txt = r\"models/location-labels.txt\"\n",
    "\n",
    "app = flask.Flask(__name__)\n",
    "app.secret_key = \"secret key\"\n",
    "app.config['MAX_CONTENT_LENGTH'] = 16 * 1024 * 1024\n",
    "ALLOWED_EXTENSIONS = set(['png', 'jpg', 'jpeg', 'gif'])\n",
    "\n",
    "def allowed_file(filename):\n",
    "    return '.' in filename and filename.rsplit('.', 1)[1].lower() in ALLOWED_EXTENSIONS\n",
    "\n",
    "@app.route('/predict', methods=['POST'])\n",
    "def predict():\n",
    "    \n",
    "    \n",
    "    \n",
    "    files = request.files.getlist('files[]')\n",
    "    image_url = str(request.form.get(\"image_url\"))\n",
    "    \n",
    "    \n",
    "    file_urls = []\n",
    "\n",
    "    if len(image_url) > 0 and image_url != 'None':\n",
    "        with Image.open(requests.get(image_url, stream=True).raw) as img:\n",
    "            buf = io.BytesIO()                        \n",
    "            img.convert('RGB').save(buf, format=\"png\") \n",
    "            image_name = image_url.rsplit('/', 1)[1]\n",
    "            img_link = upload_to_blob(image_name,buf.getvalue())\n",
    "            file_urls.append(img_link)\n",
    "            \n",
    "    \n",
    "    if (len(files)) > 0 and (str(files) != \"[<FileStorage: '' (None)>]\"):\n",
    "        for file in files:\n",
    "            with Image.open(file) as img:\n",
    "                buf = io.BytesIO()                        \n",
    "                img.convert('RGB').save(buf, format=\"png\") \n",
    "                image_name = file.filename\n",
    "                img_link = upload_to_blob(image_name,buf.getvalue())\n",
    "                file_urls.append(img_link)\n",
    "                \n",
    "  \n",
    "    print('file_urls',file_urls)\n",
    "    dict1 = model.driver(file_urls, model_path, voc_txt_path, model_path_fr, voc_txt_path_fr,location_model,location_txt)\n",
    "    \n",
    "    \n",
    "   \n",
    "    return jsonify(dict1)\n",
    " \n",
    "if __name__ == \"__main__\":\n",
    "    app.run()"
   ]
  },
  {
   "cell_type": "code",
   "execution_count": null,
   "id": "fa8d365e",
   "metadata": {},
   "outputs": [],
   "source": []
  },
  {
   "cell_type": "code",
   "execution_count": null,
   "id": "7c840a5c",
   "metadata": {},
   "outputs": [],
   "source": []
  }
 ],
 "metadata": {
  "kernelspec": {
   "display_name": "Python 3 (ipykernel)",
   "language": "python",
   "name": "python3"
  },
  "language_info": {
   "codemirror_mode": {
    "name": "ipython",
    "version": 3
   },
   "file_extension": ".py",
   "mimetype": "text/x-python",
   "name": "python",
   "nbconvert_exporter": "python",
   "pygments_lexer": "ipython3",
   "version": "3.9.7"
  }
 },
 "nbformat": 4,
 "nbformat_minor": 5
}
